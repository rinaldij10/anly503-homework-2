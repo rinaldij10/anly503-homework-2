{
 "cells": [
  {
   "cell_type": "code",
   "execution_count": null,
   "metadata": {},
   "outputs": [],
   "source": []
  }
 ],
 "metadata": {
  "kernelspec": {
   "display_name": "anly503",
   "language": "python",
   "name": "python3"
  },
  "language_info": {
   "name": "python",
   "version": "3.10.8"
  },
  "orig_nbformat": 4,
  "vscode": {
   "interpreter": {
    "hash": "a58418cc34fb333c168599a51828b5521204a72ac93de8f7de7ac2be3061fc4d"
   }
  }
 },
 "nbformat": 4,
 "nbformat_minor": 2
}
